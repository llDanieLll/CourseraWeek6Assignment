{
  "nbformat": 4,
  "nbformat_minor": 0,
  "metadata": {
    "colab": {
      "provenance": [],
      "authorship_tag": "ABX9TyNaEIqL3JXX4jv1QZ95URWe",
      "include_colab_link": true
    },
    "kernelspec": {
      "name": "python3",
      "display_name": "Python 3"
    },
    "language_info": {
      "name": "python"
    }
  },
  "cells": [
    {
      "cell_type": "markdown",
      "metadata": {
        "id": "view-in-github",
        "colab_type": "text"
      },
      "source": [
        "<a href=\"https://colab.research.google.com/github/llDanieLll/Demo_Basics/blob/master/DataScienceEcosystem.ipynb\" target=\"_parent\"><img src=\"https://colab.research.google.com/assets/colab-badge.svg\" alt=\"Open In Colab\"/></a>"
      ]
    },
    {
      "cell_type": "markdown",
      "source": [
        "#Data Science Tools and Ecosystem"
      ],
      "metadata": {
        "id": "f8SfWmRJYe-y"
      }
    },
    {
      "cell_type": "markdown",
      "source": [
        "In this notebook, Data Science Tools and Ecosystem are summarized."
      ],
      "metadata": {
        "id": "EZjo5Jb2ZLWv"
      }
    },
    {
      "cell_type": "markdown",
      "source": [
        "Some of the popular languages that Data Scientists use are:\n",
        "1. Python\n",
        "2. C\n",
        "3. R"
      ],
      "metadata": {
        "id": "WpTj9sCKZhb6"
      }
    },
    {
      "cell_type": "markdown",
      "source": [
        "Some of the commonly used libraries used by Data Scientists include:\n",
        "1. ggplot\n",
        "2. stringr\n",
        "3. dplyr"
      ],
      "metadata": {
        "id": "7LP0kxovZ_k5"
      }
    },
    {
      "cell_type": "markdown",
      "source": [
        "|Data Science Tools|\n",
        "|-|\n",
        "|Kylo|\n",
        "|My SQL|\n",
        "|Apache AirFlow|"
      ],
      "metadata": {
        "id": "h2W7ONi2MHrZ"
      }
    },
    {
      "cell_type": "markdown",
      "source": [
        "###Below are a few examples of evaluating arithmetic expression in Python"
      ],
      "metadata": {
        "id": "dCVbOrwYUbKU"
      }
    },
    {
      "cell_type": "code",
      "source": [
        "#This a simple arihmetic expression to mutiply then add integers\n",
        "(3*4)+5"
      ],
      "metadata": {
        "colab": {
          "base_uri": "https://localhost:8080/"
        },
        "id": "kPiA_5AlVNgC",
        "outputId": "02519989-a902-4e15-981b-0a081c83cf61"
      },
      "execution_count": 1,
      "outputs": [
        {
          "output_type": "execute_result",
          "data": {
            "text/plain": [
              "17"
            ]
          },
          "metadata": {},
          "execution_count": 1
        }
      ]
    },
    {
      "cell_type": "code",
      "source": [
        "#This will convert 200 minutes to hours by diving by 60\n",
        "200/60"
      ],
      "metadata": {
        "colab": {
          "base_uri": "https://localhost:8080/"
        },
        "id": "J1Q50ausVrkV",
        "outputId": "3445dfe2-caf9-424a-abe7-369ad8826266"
      },
      "execution_count": 2,
      "outputs": [
        {
          "output_type": "execute_result",
          "data": {
            "text/plain": [
              "3.3333333333333335"
            ]
          },
          "metadata": {},
          "execution_count": 2
        }
      ]
    },
    {
      "cell_type": "markdown",
      "source": [
        "##Objectives:\n",
        "+ R\n",
        "- Python\n",
        "* SQL"
      ],
      "metadata": {
        "id": "E33fwO7EWWdc"
      }
    },
    {
      "cell_type": "markdown",
      "source": [
        "##Author\n",
        "Jiahao Qiu"
      ],
      "metadata": {
        "id": "t-wvZOGRXS-9"
      }
    }
  ]
}